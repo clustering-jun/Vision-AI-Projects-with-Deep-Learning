{
  "cells": [
    {
      "cell_type": "markdown",
      "id": "17ca831a",
      "metadata": {
        "id": "17ca831a"
      },
      "source": [
        "# 환경 설정\n",
        "Anaconda Prompt 에서 다음 명령 수행\n",
        "> pip install opencv-python"
      ]
    },
    {
      "cell_type": "code",
      "execution_count": null,
      "id": "fee70284",
      "metadata": {
        "id": "fee70284"
      },
      "outputs": [],
      "source": [
        "import cv2\n",
        "cv2.__version__"
      ]
    },
    {
      "cell_type": "markdown",
      "source": [
        "## 구글 마운트\n",
        "- 원하는 경로에 설정하세요"
      ],
      "metadata": {
        "id": "CHtISUfwgF4e"
      },
      "id": "CHtISUfwgF4e"
    },
    {
      "cell_type": "markdown",
      "id": "50bab9c7",
      "metadata": {
        "id": "50bab9c7"
      },
      "source": [
        "# OpenCV (Computer Vision)\n",
        "다양한 영상 (이미지) / 동영상 처리에 사용되는 오픈소스 라이브러리\n",
        "\n",
        "\n",
        "\n",
        "-\n",
        "Google Colab에서는 이미지를 화면에 출력할 때 cv2.imshow()를 사용할 수 없습니다. 이는 Google Colab이 브라우저 기반의 환경으로, cv2.imshow()가 사용하려는 데스크톱 GUI 창을 지원하지 않기 때문입니다. 대신 Colab에서는 이미지를 시각화하기 위해 Jupyter Notebook에 직접 이미지를 출력해야 합니다.\n",
        "\n",
        "- cv2_imshow는 이를 해결하기 위해 Colab에서 이미지를 표시할 수 있도록 제공되는 함수입니다. from google.colab.patches import cv2_imshow 을 사용하여 Colab의 제한된 GUI 환경에서도 OpenCV 이미지 작업을 원활히 수행할 수 있습니다.\n",
        "\n"
      ]
    },
    {
      "cell_type": "markdown",
      "id": "421b0985",
      "metadata": {
        "id": "421b0985"
      },
      "source": [
        "# 1. 이미지 출력"
      ]
    },
    {
      "cell_type": "markdown",
      "id": "41ee099d",
      "metadata": {
        "id": "41ee099d"
      },
      "source": [
        "예제 이미지 : https://pixabay.com/images/id-2083492/  \n",
        "크기 : 640 x 390  \n",
        "파일명 : img.jpg"
      ]
    },
    {
      "cell_type": "code",
      "execution_count": null,
      "id": "80c95103",
      "metadata": {
        "id": "80c95103"
      },
      "outputs": [],
      "source": [
        "import cv2\n",
        "from google.colab.patches import cv2_imshow\n",
        "\n",
        "img = cv2.imread('./img.jpg') # 해당 경로의 파일 읽어오기\n",
        "cv2_imshow(img)\n",
        "# cv2.imshow('img', img) # img 라는 이름의 창에 img 를 표시\n",
        "# cv2.waitKey(0) # 지정된 시간(ms) 동안 사용자 키 입력 대기\n",
        "# cv2.destroyAllWindows() # 모든 창 닫기"
      ]
    },
    {
      "cell_type": "markdown",
      "id": "e5973884",
      "metadata": {
        "id": "e5973884"
      },
      "source": [
        "## 읽기 옵션\n",
        "1. cv2.IMREAD_COLOR : 컬러 이미지. 투명 영역은 무시 (기본값)\n",
        "1. cv2.IMREAD_GRAYSCALE : 흑백 이미지\n",
        "1. cv2.IMREAD_UNCHANGED : 투명 영역까지 포함"
      ]
    },
    {
      "cell_type": "code",
      "execution_count": null,
      "id": "3693f7b9",
      "metadata": {
        "id": "3693f7b9"
      },
      "outputs": [],
      "source": [
        "import cv2\n",
        "img_color = cv2.imread('./img.jpg', cv2.IMREAD_COLOR)\n",
        "img_gray = cv2.imread('./img.jpg', cv2.IMREAD_GRAYSCALE)\n",
        "img_unchanged = cv2.imread('./img.jpg', cv2.IMREAD_UNCHANGED)\n",
        "\n",
        "cv2_imshow(img_color)\n",
        "cv2_imshow(img_gray)\n",
        "cv2_imshow(img_unchanged)\n",
        "\n",
        "# cv2.waitKey(0)\n",
        "# cv2.destroyAllWindows()"
      ]
    },
    {
      "cell_type": "markdown",
      "id": "79c3576d",
      "metadata": {
        "id": "79c3576d"
      },
      "source": [
        "## Shape\n",
        "이미지의 height, width, channel 정보"
      ]
    },
    {
      "cell_type": "code",
      "execution_count": null,
      "id": "220d19eb",
      "metadata": {
        "id": "220d19eb"
      },
      "outputs": [],
      "source": [
        "import cv2\n",
        "img = cv2.imread('./img.jpg')\n",
        "img.shape # 세로, 가로, Channel"
      ]
    },
    {
      "cell_type": "markdown",
      "source": [
        "# 2. 동영상 출력\n",
        "\n",
        "## 동영상 파일 출력"
      ],
      "metadata": {
        "id": "OTViIP3Yi6yr"
      },
      "id": "OTViIP3Yi6yr"
    },
    {
      "cell_type": "markdown",
      "source": [
        "- 예제 동영상 : https://www.pexels.com/video/7515833/\n",
        "- 크기 : SD (360 x 640)\n",
        "- 파일명 : video.mp4"
      ],
      "metadata": {
        "id": "AxLQFQBhi7hb"
      },
      "id": "AxLQFQBhi7hb"
    },
    {
      "cell_type": "code",
      "source": [
        "import cv2\n",
        "from google.colab.patches import cv2_imshow\n",
        "\n",
        "cap = cv2.VideoCapture('./video.mp4')\n",
        "\n",
        "while cap.isOpened(): # 동영상 파일이 올바로 열렸는지?\n",
        "    ret, frame = cap.read() # ret : 성공 여부,  frame : 받아온 이미지 (프레임)\n",
        "    if not ret:\n",
        "        print('더 이상 가져올 프레임이 없어요')\n",
        "        break\n",
        "\n",
        "    cv2_imshow(frame)  # 모든 프레임이 다 출력되므로 굉장히 느리다.\n",
        "\n",
        "    # if cv2.waitKey(1) == ord('q'):\n",
        "    #     print('사용자 입력에 의해 종료합니다')\n",
        "    #     break\n",
        "\n",
        "cap.release() # 자원 해제\n",
        "# cv2.destroyAllWindows() # 모든 창 닫기"
      ],
      "metadata": {
        "id": "-cOUAts6i9Zx"
      },
      "id": "-cOUAts6i9Zx",
      "execution_count": null,
      "outputs": []
    },
    {
      "cell_type": "code",
      "source": [
        "from IPython.display import HTML\n",
        "from base64 import b64encode\n",
        "\n",
        "# 1) 재생할 동영상 파일 경로 지정\n",
        "video_path = 'video.mp4'  # Colab 작업 디렉토리에 업로드된 파일명\n",
        "\n",
        "# 2) 파일을 바이너리로 읽어 Base64로 인코딩\n",
        "with open(video_path, 'rb') as f:\n",
        "    video_bytes = f.read()\n",
        "data_url = \"data:video/mp4;base64,\" + b64encode(video_bytes).decode()\n",
        "\n",
        "# 3) HTML5 <video> 태그로 삽입\n",
        "HTML(f\"\"\"\n",
        "<video width=\"640\" height=\"360\" controls autoplay loop>\n",
        "  <source src=\"{data_url}\" type=\"video/mp4\">\n",
        "  Your browser does not support HTML5 video.\n",
        "</video>\n",
        "\"\"\")"
      ],
      "metadata": {
        "id": "Y8xMpu8BjHtU"
      },
      "id": "Y8xMpu8BjHtU",
      "execution_count": null,
      "outputs": []
    },
    {
      "cell_type": "markdown",
      "source": [
        "## 카메라 출력\n",
        "- 코랩환경에서는 아래의 코드가 에러 난다."
      ],
      "metadata": {
        "id": "NRsgjQWgkXZB"
      },
      "id": "NRsgjQWgkXZB"
    },
    {
      "cell_type": "code",
      "source": [
        "import cv2\n",
        "cap = cv2.VideoCapture(0) # 0번째 카메라 장치 (Device ID)\n",
        "\n",
        "if not cap.isOpened(): # 카메라가 잘 열리지 않은 경우\n",
        "    exit() # 프로그램 종료\n",
        "\n",
        "while True:\n",
        "    ret, frame = cap.read()\n",
        "    if not ret:\n",
        "        break\n",
        "\n",
        "    cv2_imshow(frame)\n",
        "    if cv2.waitKey(1) == ord('q'): # 사용자가 q 를 입력하면\n",
        "        break\n",
        "\n",
        "cap.release()\n",
        "# cv2.destroyAllWindows()"
      ],
      "metadata": {
        "id": "skqmnORDkj09"
      },
      "id": "skqmnORDkj09",
      "execution_count": null,
      "outputs": []
    },
    {
      "cell_type": "markdown",
      "source": [
        "코랩에서는 실시간 웹캠을 적용할 수 없으므로, 영상으로 사진을 촬영하고 프레임을 붙여서 영상을 만들겠습니다. 저장된 영상을 나중에 모델에 적용하는 과정입니다.\n",
        "\n",
        "- 먼저 영상을 촬영하고 영상을 촬영하여 각 프레임을 저장합니다"
      ],
      "metadata": {
        "id": "b0u7X9ZxkYB9"
      },
      "id": "b0u7X9ZxkYB9"
    },
    {
      "cell_type": "code",
      "source": [
        "from IPython.display import display, Javascript\n",
        "from google.colab.output import eval_js\n",
        "import cv2\n",
        "import numpy as np\n",
        "import PIL.Image\n",
        "import io\n",
        "import base64\n",
        "\n",
        "# JavaScript를 사용해 웹캠 스트림 캡처\n",
        "def video_stream():\n",
        "    js = Javascript('''\n",
        "        async function videoStream() {\n",
        "            const video = document.createElement('video');\n",
        "            const canvas = document.createElement('canvas');\n",
        "            const context = canvas.getContext('2d');\n",
        "\n",
        "            document.body.appendChild(video);\n",
        "            const stream = await navigator.mediaDevices.getUserMedia({video: true});\n",
        "            video.srcObject = stream;\n",
        "            await video.play();\n",
        "\n",
        "            const stopButton = document.createElement('button');\n",
        "            stopButton.textContent = 'Stop Stream';\n",
        "            document.body.appendChild(stopButton);\n",
        "\n",
        "            let stop = false;\n",
        "            stopButton.onclick = () => stop = true;\n",
        "\n",
        "            const frames = [];\n",
        "            while (!stop) {\n",
        "                canvas.width = video.videoWidth;\n",
        "                canvas.height = video.videoHeight;\n",
        "                context.drawImage(video, 0, 0, canvas.width, canvas.height);\n",
        "                const data = canvas.toDataURL('image/jpeg', 0.8);\n",
        "                frames.push(data);\n",
        "                await new Promise(resolve => setTimeout(resolve, 100));  // 100ms 간격\n",
        "            }\n",
        "\n",
        "            video.remove();\n",
        "            stopButton.remove();\n",
        "            stream.getTracks().forEach(track => track.stop());\n",
        "            return frames;\n",
        "        }\n",
        "    ''')\n",
        "    display(js)\n",
        "    return eval_js('videoStream()')\n",
        "\n",
        "# 캡처된 프레임 데이터를 OpenCV 이미지로 변환\n",
        "def process_frame(frame_data):\n",
        "    binary = io.BytesIO(base64.b64decode(frame_data.split(',')[1]))\n",
        "    img = PIL.Image.open(binary)\n",
        "    return cv2.cvtColor(np.array(img), cv2.COLOR_RGB2BGR)\n",
        "\n",
        "# 프레임 저장\n",
        "def save_frames(frames):\n",
        "    for idx, frame_data in enumerate(frames):\n",
        "        img = process_frame(frame_data)\n",
        "        filename = f'frame_{idx:04d}.jpg'\n",
        "        cv2.imwrite(filename, img)\n",
        "        print(f\"Saved {filename}\")\n",
        "\n",
        "# 스트림 시작 및 프레임 저장\n",
        "print(\"Starting video stream. Click 'Stop Stream' to end.\")\n",
        "frames = video_stream()\n",
        "save_frames(frames)\n",
        "print(\"All frames have been saved.\")\n"
      ],
      "metadata": {
        "id": "K48XdAi0kuPW"
      },
      "id": "K48XdAi0kuPW",
      "execution_count": null,
      "outputs": []
    },
    {
      "cell_type": "markdown",
      "source": [
        "- 저장된 프레임을 모두 모아 하나의 영상으로 만듭니다."
      ],
      "metadata": {
        "id": "A3C7cZtmkuZo"
      },
      "id": "A3C7cZtmkuZo"
    },
    {
      "cell_type": "code",
      "source": [
        "import cv2\n",
        "import os\n",
        "\n",
        "def create_video_from_images(image_folder, output_video, fps=10):\n",
        "    \"\"\"\n",
        "    저장된 이미지를 동영상으로 변환하는 함수.\n",
        "\n",
        "    Args:\n",
        "    - image_folder: 이미지가 저장된 폴더 경로.\n",
        "    - output_video: 생성할 동영상 파일 이름.\n",
        "    - fps: 초당 프레임 수 (기본값 10).\n",
        "\n",
        "    Returns:\n",
        "    - None\n",
        "    \"\"\"\n",
        "    # 폴더 내 이미지 파일 리스트 가져오기\n",
        "    images = [img for img in os.listdir(image_folder) if img.endswith(\".jpg\")]\n",
        "    images.sort()  # 이미지 파일 이름 순서대로 정렬\n",
        "\n",
        "    if not images:\n",
        "        print(\"No images found in the folder.\")\n",
        "        return\n",
        "\n",
        "    # 첫 번째 이미지로 프레임 크기 결정\n",
        "    first_image_path = os.path.join(image_folder, images[0])\n",
        "    frame = cv2.imread(first_image_path)\n",
        "    height, width, layers = frame.shape\n",
        "    size = (width, height)\n",
        "\n",
        "    # 동영상 작성기 초기화\n",
        "    fourcc = cv2.VideoWriter_fourcc(*'mp4v')  # .mp4 파일 포맷\n",
        "    video = cv2.VideoWriter(output_video, fourcc, fps, size)\n",
        "\n",
        "    for image in images:\n",
        "        image_path = os.path.join(image_folder, image)\n",
        "        frame = cv2.imread(image_path)\n",
        "        video.write(frame)  # 동영상에 프레임 추가\n",
        "\n",
        "    video.release()\n",
        "    print(f\"Video saved as {output_video}\")\n",
        "\n",
        "# 사용 예시\n",
        "image_folder = \"./\"  # 이미지가 저장된 폴더 경로 (현재 디렉토리)\n",
        "output_video = image_folder + \"output_video.mp4\"  # 생성할 동영상 파일 이름\n",
        "fps = 10  # 초당 프레임 수\n",
        "\n",
        "create_video_from_images(image_folder, output_video, fps)\n"
      ],
      "metadata": {
        "id": "FcgU-nnDkujV"
      },
      "id": "FcgU-nnDkujV",
      "execution_count": null,
      "outputs": []
    }
  ],
  "metadata": {
    "kernelspec": {
      "display_name": "Python 3",
      "language": "python",
      "name": "python3"
    },
    "language_info": {
      "codemirror_mode": {
        "name": "ipython",
        "version": 3
      },
      "file_extension": ".py",
      "mimetype": "text/x-python",
      "name": "python",
      "nbconvert_exporter": "python",
      "pygments_lexer": "ipython3",
      "version": "3.8.8"
    },
    "colab": {
      "provenance": []
    }
  },
  "nbformat": 4,
  "nbformat_minor": 5
}