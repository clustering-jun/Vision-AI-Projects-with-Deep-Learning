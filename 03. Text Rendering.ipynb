{
  "cells": [
    {
      "cell_type": "markdown",
      "id": "ad60f2b6",
      "metadata": {
        "id": "ad60f2b6"
      },
      "source": [
        "# 4. 텍스트"
      ]
    },
    {
      "cell_type": "markdown",
      "id": "bf5e51d6",
      "metadata": {
        "id": "bf5e51d6"
      },
      "source": [
        "## OpenCV 에서 사용하는 글꼴 종류\n",
        "1. cv2.FONT_HERSHEY_SIMPLEX : 보통 크기의 산 세리프(sans-serif) 글꼴\n",
        "1. cv2.FONT_HERSHEY_PLAIN : 작은 크기의 산 세리프 글꼴\n",
        "1. cv2.FONT_HERSHEY_SCRIPT_SIMPLEX : 필기체 스타일 글꼴\n",
        "1. cv2.FONT_HERSHEY_TRIPLEX : 보통 크기의 세리프 글꼴\n",
        "1. cv2.FONT_ITALIC : 기울임 (이탤릭체)"
      ]
    },
    {
      "cell_type": "code",
      "execution_count": null,
      "id": "25c60a41",
      "metadata": {
        "id": "25c60a41"
      },
      "outputs": [],
      "source": [
        "import numpy as np\n",
        "import cv2\n",
        "from google.colab.patches import cv2_imshow\n",
        "\n",
        "img = np.zeros((480, 640, 3), dtype=np.uint8)\n",
        "\n",
        "SCALE = 1 # 크기\n",
        "COLOR = (255, 255, 255) # 흰색\n",
        "THICKNESS = 1 # 두께\n",
        "\n",
        "cv2.putText(img, \"AI Simplex\", (20, 50), cv2.FONT_HERSHEY_SIMPLEX, SCALE, COLOR, THICKNESS)\n",
        "# 그릴 위치, 텍스트 내용, 시작 위치, 폰트 종류, 크기, 색깔, 두께\n",
        "cv2.putText(img, \"AI Plain\", (20, 150), cv2.FONT_HERSHEY_PLAIN, SCALE, COLOR, THICKNESS)\n",
        "cv2.putText(img, \"AI Script Simplex\", (20, 250), cv2.FONT_HERSHEY_SCRIPT_SIMPLEX, SCALE, COLOR, THICKNESS)\n",
        "cv2.putText(img, \"AI Triplex\", (20, 350), cv2.FONT_HERSHEY_TRIPLEX, SCALE, COLOR, THICKNESS)\n",
        "cv2.putText(img, \"AI Italic\", (20, 450), cv2.FONT_HERSHEY_TRIPLEX | cv2.FONT_ITALIC, SCALE, COLOR, THICKNESS)\n",
        "\n",
        "cv2_imshow(img)\n",
        "# cv2.waitKey(0)\n",
        "# cv2.destroyAllWindows()"
      ]
    },
    {
      "cell_type": "markdown",
      "id": "cf47a6b0",
      "metadata": {
        "id": "cf47a6b0"
      },
      "source": [
        "## 한번 스스로 해봅시다\n",
        "\n"
      ]
    },
    {
      "cell_type": "code",
      "execution_count": null,
      "id": "833ffe2f",
      "metadata": {
        "id": "833ffe2f"
      },
      "outputs": [],
      "source": [
        "import numpy as np\n",
        "import cv2\n",
        "from google.colab.patches import cv2_imshow\n",
        "\n",
        "# ① 이미지 크기(shape)를 지정해 0으로 초기화\n",
        "img = np.zeros(①__________, dtype=np.uint8)\n",
        "\n",
        "SCALE = 1        # 글자 크기\n",
        "COLOR = (255,255,255)  # 흰색\n",
        "THICKNESS = 1    # 선 두께\n",
        "\n",
        "# ② ‘Vision AI’ 텍스트,\n",
        "# ③ 폰트 종류,\n",
        "#    위치·크기·색·두께는 고정\n",
        "cv2.putText(img, ②__________, (20,50), ③__________, SCALE, COLOR, THICKNESS)\n",
        "\n",
        "# ④ 이미지 표시\n",
        "cv2_imshow(④__________)\n",
        "# cv2.waitKey(0)\n",
        "# cv2.destroyAllWindows()"
      ]
    }
  ],
  "metadata": {
    "kernelspec": {
      "display_name": "Python 3",
      "language": "python",
      "name": "python3"
    },
    "language_info": {
      "codemirror_mode": {
        "name": "ipython",
        "version": 3
      },
      "file_extension": ".py",
      "mimetype": "text/x-python",
      "name": "python",
      "nbconvert_exporter": "python",
      "pygments_lexer": "ipython3",
      "version": "3.8.8"
    },
    "colab": {
      "provenance": []
    }
  },
  "nbformat": 4,
  "nbformat_minor": 5
}